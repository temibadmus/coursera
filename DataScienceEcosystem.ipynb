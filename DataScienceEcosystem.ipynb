{
  "nbformat": 4,
  "nbformat_minor": 0,
  "metadata": {
    "colab": {
      "provenance": []
    },
    "kernelspec": {
      "name": "python3",
      "display_name": "Python 3"
    },
    "language_info": {
      "name": "python"
    }
  },
  "cells": [
    {
      "cell_type": "markdown",
      "source": [
        "# Data Science Tools and Ecosystem"
      ],
      "metadata": {
        "id": "VjkpgFM8Zw9z"
      }
    },
    {
      "cell_type": "markdown",
      "source": [
        "In this notebook, Data Science Tools and Ecosystem are summarized."
      ],
      "metadata": {
        "id": "NmAXM9xEanff"
      }
    },
    {
      "cell_type": "markdown",
      "source": [
        "**Objectives:**\n",
        "\n",
        "\n",
        "*   Popular languages that Data Scientists\n",
        "\n",
        "*   Commonly used libraries used by Data Scientists\n",
        "*   Data Science Tools\n",
        "\n"
      ],
      "metadata": {
        "id": "8GxIefLLg9lH"
      }
    },
    {
      "cell_type": "markdown",
      "source": [
        "Some of the popular languages that Data Scientists use are:\n",
        "\n",
        "\n",
        "1.   Julia\n",
        "2.   Python\n",
        "1.   R\n",
        "\n",
        "\n",
        "\n"
      ],
      "metadata": {
        "id": "TvMFZNSRa4s2"
      }
    },
    {
      "cell_type": "markdown",
      "source": [
        "Some of the commonly used libraries used by Data Scientists include:\n",
        "\n",
        "\n",
        "1.   Pandas\n",
        "\n",
        "1.   Numpy\n",
        "2.   Matplotlib\n",
        "\n"
      ],
      "metadata": {
        "id": "82MEcq4vbpgK"
      }
    },
    {
      "cell_type": "markdown",
      "source": [
        "|Data Science Tools|\n",
        "|---|\n",
        "|Jupyter Notebook|\n",
        "|R Studio|\n",
        "|Appache Zeppelin|"
      ],
      "metadata": {
        "id": "CRmYz4HJcLDr"
      }
    },
    {
      "cell_type": "markdown",
      "source": [
        "### Below are a few examples of evaluating arithmetic expressions in Python"
      ],
      "metadata": {
        "id": "HOrVoSpveKsN"
      }
    },
    {
      "cell_type": "code",
      "source": [
        "#This a simple arithmetic expression to mutiply then add integers\n",
        "(3*4)+5"
      ],
      "metadata": {
        "colab": {
          "base_uri": "https://localhost:8080/",
          "height": 0
        },
        "id": "nCSKMkmXgeOe",
        "outputId": "81a7660d-da57-458d-8de8-78fb2cc41769"
      },
      "execution_count": 3,
      "outputs": [
        {
          "output_type": "execute_result",
          "data": {
            "text/plain": [
              "17"
            ]
          },
          "metadata": {},
          "execution_count": 3
        }
      ]
    },
    {
      "cell_type": "code",
      "source": [
        "# This will convert 200 minutes to hours by diving by 60\n",
        "200/60"
      ],
      "metadata": {
        "colab": {
          "base_uri": "https://localhost:8080/",
          "height": 0
        },
        "id": "mMw5xRVmgqVC",
        "outputId": "ec4b22b3-6301-4ecc-cca3-2727b25d175c"
      },
      "execution_count": 4,
      "outputs": [
        {
          "output_type": "execute_result",
          "data": {
            "text/plain": [
              "3.3333333333333335"
            ]
          },
          "metadata": {},
          "execution_count": 4
        }
      ]
    }
  ]
}